{
 "cells": [
  {
   "cell_type": "markdown",
   "id": "b209bbdd-8d0e-488c-943f-4590404823aa",
   "metadata": {},
   "source": [
    "# Task 11: NumPy advanced operations (indexing, slicing, broadcasting)"
   ]
  },
  {
   "cell_type": "code",
   "execution_count": 79,
   "id": "05c078e7-92e3-4c7c-ad45-d7b6d3211457",
   "metadata": {},
   "outputs": [],
   "source": [
    "import numpy as np"
   ]
  },
  {
   "cell_type": "markdown",
   "id": "1c8afddb-494c-4295-a28a-ea2e8e18b876",
   "metadata": {},
   "source": [
    "## Indexing and Slicing"
   ]
  },
  {
   "cell_type": "code",
   "execution_count": 80,
   "id": "8c5fadd2-9530-416a-9e8c-b77b9b73f49c",
   "metadata": {},
   "outputs": [
    {
     "name": "stdout",
     "output_type": "stream",
     "text": [
      "Original Array:\n",
      " [[12 11 41 26 12]\n",
      " [23  6 14 49 15]\n",
      " [ 4 28 29 13  7]\n",
      " [46 14 27 21  4]\n",
      " [37 14 19 49 35]]\n",
      "Extracted Sub-Array:\n",
      " [[ 6 14 49]\n",
      " [28 29 13]\n",
      " [14 27 21]]\n"
     ]
    }
   ],
   "source": [
    "# Extract a 3x3 sub-array from a 2D array of shape (5, 5) starting from the element at position (1, 1)\n",
    "array_2d =  np.random.randint(1, 50, size=(5, 5))\n",
    "sub_array = array_2d[1:4, 1:4]\n",
    "print(\"Original Array:\\n\", array_2d)\n",
    "print(\"Extracted Sub-Array:\\n\", sub_array)"
   ]
  },
  {
   "cell_type": "code",
   "execution_count": 81,
   "id": "065fd093-7b31-4f34-abcd-e77f2e48a087",
   "metadata": {},
   "outputs": [
    {
     "name": "stdout",
     "output_type": "stream",
     "text": [
      "Original Array:\n",
      " [[[ 0  1]\n",
      "  [ 2  3]\n",
      "  [ 4  5]]\n",
      "\n",
      " [[ 6  7]\n",
      "  [ 8  9]\n",
      "  [10 11]]\n",
      "\n",
      " [[12 13]\n",
      "  [14 15]\n",
      "  [16 17]]\n",
      "\n",
      " [[18 19]\n",
      "  [20 21]\n",
      "  [22 23]]]\n",
      "Extracted Elements:\n",
      " [[ 1  3  5]\n",
      " [ 7  9 11]]\n"
     ]
    }
   ],
   "source": [
    "# From a 3D array of shape (4, 3, 2), extract all elements in the first two rows and all columns of the second slice along the third axis.\n",
    "array_3d = np.arange(24).reshape(4, 3, 2)\n",
    "extracted_elements = array_3d[:2, :, 1]\n",
    "print(\"Original Array:\\n\", array_3d)\n",
    "print(\"Extracted Elements:\\n\", extracted_elements)"
   ]
  },
  {
   "cell_type": "code",
   "execution_count": 82,
   "id": "0284475c-fbe1-47c9-96b4-11896153c606",
   "metadata": {},
   "outputs": [
    {
     "name": "stdout",
     "output_type": "stream",
     "text": [
      "Array: \n",
      " [16 16 36 24  5  9 17 27 11 13]\n",
      "Fancy Indexed Elements:\n",
      " [16 24  5 27]\n"
     ]
    }
   ],
   "source": [
    "# Given an array of integers, use fancy indexing to extract elements at positions [1, 3, 4, 7].\n",
    "\n",
    "array_1d =  np.random.randint(1, 50, size=(10))\n",
    "fancy_indexed_elements = array_1d[[1, 3, 4, 7]]\n",
    "print (\"Array: \\n\", array_1d)\n",
    "print(\"Fancy Indexed Elements:\\n\",fancy_indexed_elements)"
   ]
  },
  {
   "cell_type": "code",
   "execution_count": 83,
   "id": "628388d0-a334-45ae-af37-608fd7dc96a0",
   "metadata": {},
   "outputs": [
    {
     "name": "stdout",
     "output_type": "stream",
     "text": [
      "Array: \n",
      " [[ 0  1  2  3  4]\n",
      " [ 5  6  7  8  9]\n",
      " [10 11 12 13 14]\n",
      " [15 16 17 18 19]\n",
      " [20 21 22 23 24]]\n",
      "Fancy Indexed selected Elements:\n",
      " [[ 1  3]\n",
      " [11 13]\n",
      " [16 18]]\n"
     ]
    }
   ],
   "source": [
    "# Given a 2D array, use fancy indexing to select rows [0, 2, 3] and columns [1, 3]\n",
    "\n",
    "array_2d = np.arange(25).reshape(5, 5)\n",
    "fancy_indexed_sub_array = array_2d[[0, 2, 3], :][:, [1, 3]]\n",
    "print (\"Array: \\n\", array_2d)\n",
    "print(\"Fancy Indexed selected Elements:\\n\",fancy_indexed_sub_array)"
   ]
  },
  {
   "cell_type": "code",
   "execution_count": 84,
   "id": "4ffe5093-b28e-4c21-99af-27be3a3405b6",
   "metadata": {},
   "outputs": [
    {
     "name": "stdout",
     "output_type": "stream",
     "text": [
      "Array: \n",
      " [14  6  2 11  8 12  4 17 19  9 11 16  3  2 14]\n",
      "Elements greater than 10:\n",
      " [14 11 12 17 19 11 16 14]\n"
     ]
    }
   ],
   "source": [
    "# From a 1D array of random integers, extract all elements that are greater than 10.\n",
    "\n",
    "array_random = np.random.randint(1, 20, size=15)\n",
    "elements_greater_than_10 = array_random[array_random > 10]\n",
    "print (\"Array: \\n\", array_random)\n",
    "print(\"Elements greater than 10:\\n\",elements_greater_than_10)"
   ]
  },
  {
   "cell_type": "code",
   "execution_count": 85,
   "id": "62ebe79d-b580-469e-a250-6de8ff0fd14c",
   "metadata": {},
   "outputs": [
    {
     "name": "stdout",
     "output_type": "stream",
     "text": [
      "Array: \n",
      " [[11 13  6  8 15]\n",
      " [ 8  7 12 12  9]\n",
      " [14  7 15  5  3]\n",
      " [ 1  9  7  5 15]\n",
      " [ 9 11  3  1  4]]\n",
      "Resulted Array:\n",
      " [[11 13  6  8 15]\n",
      " [ 8  7 12 12  9]\n",
      " [14  7 15  5  3]\n",
      " [ 1  9  7  5 15]\n",
      " [ 9 11  3  1  4]]\n"
     ]
    }
   ],
   "source": [
    "# Given a 2D array of shape (5, 5), replace all elements greater than 15 with the value 0.\n",
    "\n",
    "array_2d = np.random.randint(1, 20, size=(5, 5))\n",
    "print (\"Array: \\n\", array_2d)\n",
    "array_2d[array_2d > 15] = 0\n",
    "print(\"Resulted Array:\\n\",array_2d)"
   ]
  },
  {
   "cell_type": "markdown",
   "id": "ae693040-bde5-4fca-bede-c3fbd4c11724",
   "metadata": {},
   "source": [
    "## Broadcasting"
   ]
  },
  {
   "cell_type": "code",
   "execution_count": 86,
   "id": "40a642c6-d5f7-4bad-baf3-e9fa40f659f9",
   "metadata": {},
   "outputs": [
    {
     "name": "stdout",
     "output_type": "stream",
     "text": [
      "Array 1:\n",
      " [1 2 3]\n",
      "Array 2:\n",
      " [[6 4 6]\n",
      " [3 7 1]\n",
      " [8 6 1]\n",
      " [8 6 4]]\n",
      "Sum of Arrays:\n",
      "  [[7 6 9]\n",
      " [4 9 4]\n",
      " [9 8 4]\n",
      " [9 8 7]]\n"
     ]
    }
   ],
   "source": [
    "# Add a 1D array of shape (3,) to each row of a 2D array of shape (4, 3).\n",
    "\n",
    "array_1d = np.array([1, 2, 3])\n",
    "array_2d = np.random.randint(1, 10, size=(4, 3))\n",
    "arrays_sum = array_2d + array_1d\n",
    "print(\"Array 1:\\n\", array_1d)\n",
    "print(\"Array 2:\\n\", array_2d)\n",
    "print(\"Sum of Arrays:\\n \",arrays_sum)"
   ]
  },
  {
   "cell_type": "code",
   "execution_count": 87,
   "id": "bba1bc54-edf3-4a5b-9115-f6482e639806",
   "metadata": {},
   "outputs": [
    {
     "name": "stdout",
     "output_type": "stream",
     "text": [
      "Array 1:\n",
      " [1 2 3]\n",
      "Array 2:\n",
      " [[5 7 5]\n",
      " [3 9 3]\n",
      " [7 9 1]]\n",
      "Product of arrays:\n",
      " [[ 5 14 15]\n",
      " [ 3 18  9]\n",
      " [ 7 18  3]]\n"
     ]
    }
   ],
   "source": [
    "# Multiply a 2D array of shape (3, 3) by a 1D array of shape (3,).\n",
    "\n",
    "array_1d = np.array([1, 2, 3])\n",
    "array_2d = np.random.randint(1, 10, size=(3, 3))\n",
    "arrays_product = array_2d * array_1d\n",
    "print(\"Array 1:\\n\", array_1d)\n",
    "print(\"Array 2:\\n\", array_2d)\n",
    "print(\"Product of arrays:\\n\", arrays_product)"
   ]
  },
  {
   "cell_type": "code",
   "execution_count": 88,
   "id": "54b8a80a-8f6f-4419-9f64-c6cdc4714bf5",
   "metadata": {},
   "outputs": [
    {
     "name": "stdout",
     "output_type": "stream",
     "text": [
      "Array 1:\n",
      " [[1]\n",
      " [8]\n",
      " [7]]\n",
      "Array 2:\n",
      " [[6 7 1 2]]\n",
      "Element Wise Sum of arrays:\n",
      " [[ 7  8  2  3]\n",
      " [14 15  9 10]\n",
      " [13 14  8  9]]\n"
     ]
    }
   ],
   "source": [
    "# Create two 2D arrays of shapes (3, 1) and (1, 4) respectively, and perform element-wise addition.\n",
    "\n",
    "array_2d_1 = np.random.randint(1, 10, size=(3,1))\n",
    "array_2d_2 = np.random.randint(1, 10, size=(1, 4))\n",
    "element_wise_sum = array_2d_1 + array_2d_2\n",
    "print(\"Array 1:\\n\", array_2d_1)\n",
    "print(\"Array 2:\\n\", array_2d_2)\n",
    "print(\"Element Wise Sum of arrays:\\n\", element_wise_sum)"
   ]
  },
  {
   "cell_type": "code",
   "execution_count": 89,
   "id": "69dc88ba-56a6-4178-a9d0-edda9801c8e5",
   "metadata": {},
   "outputs": [
    {
     "name": "stdout",
     "output_type": "stream",
     "text": [
      "Array 1:\n",
      " [[[7 8 4 9]\n",
      "  [6 3 8 9]\n",
      "  [7 5 9 5]]\n",
      "\n",
      " [[9 3 3 2]\n",
      "  [8 5 6 9]\n",
      "  [1 6 5 7]]]\n",
      "Array 2:\n",
      " [[1 1 2 8]\n",
      " [2 3 2 4]\n",
      " [6 9 1 4]]\n",
      "Sum of arrays:\n",
      " [[[ 8  9  6 17]\n",
      "  [ 8  6 10 13]\n",
      "  [13 14 10  9]]\n",
      "\n",
      " [[10  4  5 10]\n",
      "  [10  8  8 13]\n",
      "  [ 7 15  6 11]]]\n"
     ]
    }
   ],
   "source": [
    "# Given a 3D array of shape (2, 3, 4), add a 2D array of shape (3, 4) to each 2D slice along the first axis.\n",
    "\n",
    "array_3d = np.random.randint(1, 10, size=(2, 3, 4))\n",
    "array_2d = np.random.randint(1, 10, size=(3, 4))\n",
    "broadcasted_sum = array_3d + array_2d\n",
    "print(\"Array 1:\\n\", array_3d)\n",
    "print(\"Array 2:\\n\", array_2d)\n",
    "print(\"Sum of arrays:\\n\", broadcasted_sum)"
   ]
  },
  {
   "cell_type": "markdown",
   "id": "c62dc7f3-21c1-4ea1-b628-4a0fad63e664",
   "metadata": {},
   "source": [
    "## Some  More"
   ]
  },
  {
   "cell_type": "code",
   "execution_count": 90,
   "id": "c9eee080-aee8-476b-92dc-9300938fdd66",
   "metadata": {},
   "outputs": [
    {
     "name": "stdout",
     "output_type": "stream",
     "text": [
      "Original Array:\n",
      " [[5 6 7 3 9]\n",
      " [6 3 1 2 2]\n",
      " [5 6 3 7 9]\n",
      " [4 8 2 6 7]\n",
      " [3 4 8 7 1]]\n",
      "Sliced Array:\n",
      " [[5 7 9]\n",
      " [5 3 9]\n",
      " [3 8 1]]\n",
      "Result after adding 1D array:\n",
      " [[ 6  9 12]\n",
      " [ 6  5 12]\n",
      " [ 4 10  4]]\n"
     ]
    }
   ],
   "source": [
    "# Given a 2D array, use slicing to extract every second row and every second column, then add a 1D array to each row of the sliced array.\n",
    "\n",
    "array_2d = np.random.randint(1, 10, size=(5, 5))\n",
    "print(\"Original Array:\\n\", array_2d)\n",
    "\n",
    "sliced_array = array_2d[::2, ::2]\n",
    "print(\"Sliced Array:\\n\", sliced_array)\n",
    "\n",
    "array_1d = np.array([1, 2, 3])\n",
    "\n",
    "if sliced_array.shape[1] == array_1d.shape[0]:\n",
    "    result = sliced_array + array_1d\n",
    "else:\n",
    "    raise ValueError(\"The length of the 1D array must match the number of columns in the sliced array.\")\n",
    "\n",
    "print(\"Result after adding 1D array:\\n\", result)\n"
   ]
  },
  {
   "cell_type": "code",
   "execution_count": 91,
   "id": "79d1ca0d-2d18-4bbe-a5b4-ff67945a2c37",
   "metadata": {},
   "outputs": [
    {
     "name": "stdout",
     "output_type": "stream",
     "text": [
      "Original 3D Array:\n",
      " [[[9 1]\n",
      "  [5 6]\n",
      "  [4 3]]\n",
      "\n",
      " [[6 7]\n",
      "  [7 6]\n",
      "  [7 5]]\n",
      "\n",
      " [[6 5]\n",
      "  [8 7]\n",
      "  [1 4]]\n",
      "\n",
      " [[1 5]\n",
      "  [9 1]\n",
      "  [6 9]]]\n",
      "Sub-array:\n",
      " [[[9 1]\n",
      "  [5 6]\n",
      "  [4 3]]\n",
      "\n",
      " [[6 7]\n",
      "  [7 6]\n",
      "  [7 5]]]\n",
      "Result after broadcasting subtraction:\n",
      " [[[ 2 -7]\n",
      "  [-2 -2]\n",
      "  [-3 -5]]\n",
      "\n",
      " [[-3  6]\n",
      "  [-2  5]\n",
      "  [-2  4]]]\n"
     ]
    }
   ],
   "source": [
    "# From a 3D array of shape (4, 3, 2), extract a sub-array using slicing and then use broadcasting to subtract a 2D array from each slice along the third axis.\n",
    "\n",
    "array_3d = np.random.randint(1, 10, size=(4, 3, 2))\n",
    "print(\"Original 3D Array:\\n\", array_3d)\n",
    "\n",
    "sub_array = array_3d[:2, :, :]\n",
    "print(\"Sub-array:\\n\", sub_array)\n",
    "\n",
    "array_2d = np.random.randint(1, 10, size=(2, 2))\n",
    "\n",
    "result = sub_array - array_2d[:, np.newaxis]\n",
    "print(\"Result after broadcasting subtraction:\\n\", result)\n"
   ]
  },
  {
   "cell_type": "code",
   "execution_count": 92,
   "id": "6c8721be-62e1-46dd-8cc8-2765698d43e6",
   "metadata": {},
   "outputs": [
    {
     "name": "stdout",
     "output_type": "stream",
     "text": [
      "Original Array:\n",
      " [[4 5 8 8 6]\n",
      " [3 4 1 8 6]\n",
      " [5 8 7 6 3]\n",
      " [8 2 5 7 2]\n",
      " [3 9 5 2 3]]\n",
      "Diagonal Elements:\n",
      " [4 4 7 7 3]\n"
     ]
    }
   ],
   "source": [
    "# Given a 2D array, extract the diagonal elements and create a 1D array.\n",
    "\n",
    "array_2d = np.random.randint(1, 10, size=(5, 5))\n",
    "diagonal_elements = np.diagonal(array_2d)\n",
    "print(\"Original Array:\\n\", array_2d)\n",
    "print(\"Diagonal Elements:\\n\", diagonal_elements)"
   ]
  },
  {
   "cell_type": "code",
   "execution_count": 93,
   "id": "e3841fc9-3976-462d-b64c-37348cdec6cf",
   "metadata": {},
   "outputs": [
    {
     "name": "stdout",
     "output_type": "stream",
     "text": [
      "Original Array:\n",
      " [[3 8 8 1 4]\n",
      " [5 9 3 6 1]\n",
      " [5 8 6 5 7]\n",
      " [6 2 9 4 1]\n",
      " [1 5 2 3 5]]\n",
      "Rows Reversed:\n",
      " [[4 1 8 8 3]\n",
      " [1 6 3 9 5]\n",
      " [7 5 6 8 5]\n",
      " [1 4 9 2 6]\n",
      " [5 3 2 5 1]]\n"
     ]
    }
   ],
   "source": [
    "# Use slicing to reverse the order of elements in each row of a 2D array.\n",
    "\n",
    "array_2d = np.random.randint(1, 10, size=(5, 5))\n",
    "reversed_rows = array_2d[:, ::-1]\n",
    "print(\"Original Array:\\n\", array_2d)\n",
    "print(\"Rows Reversed:\\n\", reversed_rows)"
   ]
  },
  {
   "cell_type": "code",
   "execution_count": 94,
   "id": "7a119205-c3ad-481d-8a9a-f92c65db0f95",
   "metadata": {},
   "outputs": [
    {
     "name": "stdout",
     "output_type": "stream",
     "text": [
      "Original 3D Array:\n",
      " [[[4 4 3 1 4 7]\n",
      "  [8 7 6 4 3 2]\n",
      "  [4 4 6 6 3 6]\n",
      "  [3 6 3 5 1 3]\n",
      "  [6 7 5 4 4 7]]\n",
      "\n",
      " [[4 8 8 1 1 5]\n",
      "  [3 2 1 7 8 7]\n",
      "  [6 5 2 3 3 2]\n",
      "  [2 3 1 2 2 6]\n",
      "  [3 3 1 5 5 5]]\n",
      "\n",
      " [[6 2 3 5 3 4]\n",
      "  [8 7 8 8 7 4]\n",
      "  [6 2 8 3 9 8]\n",
      "  [9 9 6 9 4 1]\n",
      "  [9 6 2 6 4 1]]\n",
      "\n",
      " [[7 3 8 3 2 6]\n",
      "  [4 8 3 6 4 3]\n",
      "  [9 6 6 9 6 6]\n",
      "  [8 7 3 6 7 9]\n",
      "  [3 6 3 3 2 6]]]\n",
      "Sub-array:\n",
      " [[[4 4 3 1]\n",
      "  [8 7 6 4]\n",
      "  [4 4 6 6]]\n",
      "\n",
      " [[4 8 8 1]\n",
      "  [3 2 1 7]\n",
      "  [6 5 2 3]]]\n",
      "Result after broadcasting addition:\n",
      " [[[ 5  6  6  5]\n",
      "  [ 9  9  9  8]\n",
      "  [ 5  6  9 10]]\n",
      "\n",
      " [[ 5 10 11  5]\n",
      "  [ 4  4  4 11]\n",
      "  [ 7  7  5  7]]]\n"
     ]
    }
   ],
   "source": [
    "# Given a 3D array of shape (4, 5, 6), use slicing to extract a sub-array of shape (2, 3, 4) and then use broadcasting to add a 1D array of shape (4,) to each row along the third axis.\n",
    "\n",
    "array_3d = np.random.randint(1, 10, size=(4, 5, 6))\n",
    "sub_array = array_3d[:2, :3, :4]\n",
    "array_1d = np.array([1, 2, 3, 4])\n",
    "result = sub_array + array_1d\n",
    "\n",
    "print(\"Original 3D Array:\\n\", array_3d)\n",
    "print(\"Sub-array:\\n\", sub_array)\n",
    "print(\"Result after broadcasting addition:\\n\", result)"
   ]
  },
  {
   "cell_type": "code",
   "execution_count": 95,
   "id": "64ed3964-75f7-42be-8808-a88290ee7a7b",
   "metadata": {},
   "outputs": [
    {
     "name": "stdout",
     "output_type": "stream",
     "text": [
      "Original Array:\n",
      " [[9 1 6 8 1]\n",
      " [1 3 8 8 5]\n",
      " [3 3 7 5 9]\n",
      " [1 7 8 5 6]\n",
      " [1 7 4 3 2]]\n",
      "Modified Array:\n",
      " [[ 9  1  6  8 10]\n",
      " [ 1  3  8  8  4]\n",
      " [ 3  3  7  5  6]\n",
      " [ 1  7  8  5  8]\n",
      " [ 1  7  4  3  8]]\n"
     ]
    }
   ],
   "source": [
    "# Create a 2D array and use both slicing and broadcasting to set the last column to the sum of the first two columns for each row.\n",
    "\n",
    "array_2d = np.random.randint(1, 10, size=(5, 5))\n",
    "print(\"Original Array:\\n\", array_2d)\n",
    "\n",
    "array_2d[:, -1] = array_2d[:, 0] + array_2d[:, 1]\n",
    "print(\"Modified Array:\\n\", array_2d)"
   ]
  },
  {
   "cell_type": "code",
   "execution_count": null,
   "id": "0c31be1f-54fa-4f16-9c5d-90b6a3755ef4",
   "metadata": {},
   "outputs": [],
   "source": []
  }
 ],
 "metadata": {
  "kernelspec": {
   "display_name": "Python 3 (ipykernel)",
   "language": "python",
   "name": "python3"
  },
  "language_info": {
   "codemirror_mode": {
    "name": "ipython",
    "version": 3
   },
   "file_extension": ".py",
   "mimetype": "text/x-python",
   "name": "python",
   "nbconvert_exporter": "python",
   "pygments_lexer": "ipython3",
   "version": "3.12.1"
  }
 },
 "nbformat": 4,
 "nbformat_minor": 5
}
