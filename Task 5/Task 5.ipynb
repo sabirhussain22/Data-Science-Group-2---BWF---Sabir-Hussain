{
 "cells": [
  {
   "cell_type": "markdown",
   "id": "59bc3a4c-6741-410c-8c88-aa65c3cd0fe0",
   "metadata": {},
   "source": [
    "# Task 5: If conditions, for loops, while loops, and functions using Python."
   ]
  },
  {
   "cell_type": "markdown",
   "id": "33a4f806-038d-4089-a29e-d4483d8abe57",
   "metadata": {},
   "source": [
    "### 1. Prime Checker"
   ]
  },
  {
   "cell_type": "code",
   "execution_count": 45,
   "id": "0007b4c9-42ea-4817-99a3-1f9dd96509be",
   "metadata": {},
   "outputs": [
    {
     "name": "stdin",
     "output_type": "stream",
     "text": [
      "Enter Number to check:  41\n"
     ]
    },
    {
     "name": "stdout",
     "output_type": "stream",
     "text": [
      "41 is a prime number.\n"
     ]
    }
   ],
   "source": [
    "# Prime Number Checker\n",
    "def is_prime(number):\n",
    "    if number <= 1:\n",
    "        return False\n",
    "    for i in range(2, int(number**0.5) + 1):\n",
    "        if number % i == 0:\n",
    "            return False\n",
    "    return True\n",
    "\n",
    "number = int(input(\"Enter Number to check: \"))\n",
    "\n",
    "if is_prime(number):\n",
    "    print(f\"{number} is a prime number.\")\n",
    "else:\n",
    "    print(f\"{number} is not a prime number.\")"
   ]
  },
  {
   "cell_type": "markdown",
   "id": "d8666f99-3a30-4311-8ac6-a3449083bafd",
   "metadata": {},
   "source": [
    "### 2. Fibonacci Sequence Generator "
   ]
  },
  {
   "cell_type": "code",
   "execution_count": 46,
   "id": "17b5540c-ca6e-4ed3-806d-a905a99eab40",
   "metadata": {},
   "outputs": [
    {
     "name": "stdin",
     "output_type": "stream",
     "text": [
      "Enter number of terms for series:  15\n"
     ]
    },
    {
     "name": "stdout",
     "output_type": "stream",
     "text": [
      "Fibonacci sequence up to 15 terms: [0, 1, 1, 2, 3, 5, 8, 13, 21, 34, 55, 89, 144, 233, 377]\n"
     ]
    }
   ],
   "source": [
    "def fibonacci_sequence(n_terms):\n",
    "    sequence = []\n",
    "    a, b = 0, 1\n",
    "    while len(sequence) < n_terms:\n",
    "        sequence.append(a)\n",
    "        a, b = b, a + b\n",
    "    return sequence\n",
    "\n",
    "n_terms = int(input(\"Enter number of terms for series: \")) \n",
    "\n",
    "fib_sequence = fibonacci_sequence(n_terms)\n",
    "print(f\"Fibonacci sequence up to {n_terms} terms: {fib_sequence}\")"
   ]
  },
  {
   "cell_type": "markdown",
   "id": "afd54632-85a8-4942-9a98-aef537f248b0",
   "metadata": {},
   "source": [
    "### 3. Password Strength Checker"
   ]
  },
  {
   "cell_type": "code",
   "execution_count": 47,
   "id": "59bc7615-baf0-483f-b414-f1b332d878b5",
   "metadata": {},
   "outputs": [
    {
     "name": "stdin",
     "output_type": "stream",
     "text": [
      "Enter Your Password to check:  Sabir123@Uwh\n"
     ]
    },
    {
     "name": "stdout",
     "output_type": "stream",
     "text": [
      "The password is strong.\n"
     ]
    }
   ],
   "source": [
    "def check_password_strength(password):\n",
    "    strength = {\"length\": False, \"uppercase\": False, \"lowercase\": False, \"digits\": False, \"special\": False}\n",
    "    \n",
    "    if len(password) >= 8:\n",
    "        strength[\"length\"] = True\n",
    "    for char in password:\n",
    "        if char.isupper():\n",
    "            strength[\"uppercase\"] = True\n",
    "        elif char.islower():\n",
    "            strength[\"lowercase\"] = True\n",
    "        elif char.isdigit():\n",
    "            strength[\"digits\"] = True\n",
    "        elif not char.isalnum():\n",
    "            strength[\"special\"] = True\n",
    "            \n",
    "    return all(strength.values())\n",
    "\n",
    "password = input(\"Enter Your Password to check: \")\n",
    "if check_password_strength(password):\n",
    "    print(\"The password is strong.\")\n",
    "else:\n",
    "    print(\"The password is weak.\")"
   ]
  },
  {
   "cell_type": "markdown",
   "id": "e73c6a8f-a63e-4c3d-aba1-24e2c16dd6af",
   "metadata": {},
   "source": [
    "### 4. Number Guessing Game"
   ]
  },
  {
   "cell_type": "code",
   "execution_count": 48,
   "id": "31468607-b910-4560-be3f-801894d83487",
   "metadata": {},
   "outputs": [
    {
     "name": "stdin",
     "output_type": "stream",
     "text": [
      "Guess a number between 1 and 100:  50\n"
     ]
    },
    {
     "name": "stdout",
     "output_type": "stream",
     "text": [
      "Too low!\n"
     ]
    },
    {
     "name": "stdin",
     "output_type": "stream",
     "text": [
      "Guess a number between 1 and 100:  75\n"
     ]
    },
    {
     "name": "stdout",
     "output_type": "stream",
     "text": [
      "Too low!\n"
     ]
    },
    {
     "name": "stdin",
     "output_type": "stream",
     "text": [
      "Guess a number between 1 and 100:  85\n"
     ]
    },
    {
     "name": "stdout",
     "output_type": "stream",
     "text": [
      "Too low!\n"
     ]
    },
    {
     "name": "stdin",
     "output_type": "stream",
     "text": [
      "Guess a number between 1 and 100:  93\n"
     ]
    },
    {
     "name": "stdout",
     "output_type": "stream",
     "text": [
      "Congratulations! You guessed the right number.\n"
     ]
    }
   ],
   "source": [
    "import random\n",
    "def number_guessing_game(range_start, range_end):\n",
    "    target = random.randint(range_start, range_end)\n",
    "    guess = None\n",
    "    \n",
    "    while guess != target:\n",
    "        guess = int(input(f\"Guess a number between {range_start} and {range_end}: \"))\n",
    "        if guess < target:\n",
    "            print(\"Too low!\")\n",
    "        elif guess > target:\n",
    "            print(\"Too high!\")\n",
    "    print(\"Congratulations! You guessed the right number.\")\n",
    "    \n",
    "number_guessing_game(1, 100)"
   ]
  },
  {
   "cell_type": "markdown",
   "id": "fe0dc1b8-a9ad-4b69-943b-1e314a91e1f8",
   "metadata": {},
   "source": [
    "### 5. Diamond Pattern from Name"
   ]
  },
  {
   "cell_type": "code",
   "execution_count": 49,
   "id": "c1db15ce-4b79-4cdf-b6ea-91cac8f07a77",
   "metadata": {},
   "outputs": [
    {
     "name": "stdin",
     "output_type": "stream",
     "text": [
      "Enter your name:  Sabir Hussain\n"
     ]
    },
    {
     "name": "stdout",
     "output_type": "stream",
     "text": [
      "           S           \n",
      "          S a          \n",
      "         S a b         \n",
      "        S a b i        \n",
      "       S a b i r       \n",
      "      S a b i r H      \n",
      "     S a b i r H u     \n",
      "    S a b i r H u s    \n",
      "   S a b i r H u s s   \n",
      "  S a b i r H u s s a  \n",
      " S a b i r H u s s a i \n",
      "S a b i r H u s s a i n\n",
      " S a b i r H u s s a i \n",
      "  S a b i r H u s s a  \n",
      "   S a b i r H u s s   \n",
      "    S a b i r H u s    \n",
      "     S a b i r H u     \n",
      "      S a b i r H      \n",
      "       S a b i r       \n",
      "        S a b i        \n",
      "         S a b         \n",
      "          S a          \n",
      "           S           \n"
     ]
    }
   ],
   "source": [
    "def create_diamond_pattern(name):\n",
    "    name_no_space = name.replace(\" \", \"\")\n",
    "    length = len(name_no_space)\n",
    "    \n",
    "    for i in range(1, length + 1):\n",
    "        spaces = ' ' * (length - i)\n",
    "        substring = name_no_space[:i]\n",
    "        joined_chars = ' '.join(substring)\n",
    "        row = spaces + joined_chars + spaces\n",
    "        print(row)\n",
    "    \n",
    "    for i in range(length - 1, 0, -1):\n",
    "        spaces = ' ' * (length - i)\n",
    "        substring = name_no_space[:i]\n",
    "        joined_chars = ' '.join(substring)\n",
    "        row = spaces + joined_chars + spaces\n",
    "        print(row)\n",
    "\n",
    "name = input(\"Enter your name: \")\n",
    "create_diamond_pattern(name)"
   ]
  },
  {
   "cell_type": "markdown",
   "id": "cc10e55f-40a8-46fd-a5d2-38d2f5fc159e",
   "metadata": {},
   "source": [
    "### 6. Concentric Square Pattern from name"
   ]
  },
  {
   "cell_type": "code",
   "execution_count": 50,
   "id": "135b13f1-4f55-47eb-ac03-2a978e338c5e",
   "metadata": {},
   "outputs": [
    {
     "name": "stdin",
     "output_type": "stream",
     "text": [
      "Enter your name:  Sabir Hussain\n"
     ]
    },
    {
     "name": "stdout",
     "output_type": "stream",
     "text": [
      "S S S S S S S S S S S S S S S S S S S S S S S\n",
      "S a a a a a a a a a a a a a a a a a a a a a S\n",
      "S a b b b b b b b b b b b b b b b b b b b a S\n",
      "S a b i i i i i i i i i i i i i i i i i b a S\n",
      "S a b i r r r r r r r r r r r r r r r i b a S\n",
      "S a b i r H H H H H H H H H H H H H r i b a S\n",
      "S a b i r H u u u u u u u u u u u H r i b a S\n",
      "S a b i r H u s s s s s s s s s u H r i b a S\n",
      "S a b i r H u s s s s s s s s s u H r i b a S\n",
      "S a b i r H u s s a a a a a s s u H r i b a S\n",
      "S a b i r H u s s a i i i a s s u H r i b a S\n",
      "S a b i r H u s s a i n i a s s u H r i b a S\n",
      "S a b i r H u s s a i i i a s s u H r i b a S\n",
      "S a b i r H u s s a a a a a s s u H r i b a S\n",
      "S a b i r H u s s s s s s s s s u H r i b a S\n",
      "S a b i r H u s s s s s s s s s u H r i b a S\n",
      "S a b i r H u u u u u u u u u u u H r i b a S\n",
      "S a b i r H H H H H H H H H H H H H r i b a S\n",
      "S a b i r r r r r r r r r r r r r r r i b a S\n",
      "S a b i i i i i i i i i i i i i i i i i b a S\n",
      "S a b b b b b b b b b b b b b b b b b b b a S\n",
      "S a a a a a a a a a a a a a a a a a a a a a S\n",
      "S S S S S S S S S S S S S S S S S S S S S S S\n"
     ]
    }
   ],
   "source": [
    "def create_concentric_squares(name):\n",
    "    name_no_space = name.replace(\" \", \"\")\n",
    "    length = len(name_no_space)\n",
    "    size = 2 * length - 1  \n",
    "\n",
    "    matrix = [[' ' for _ in range(size)] for _ in range(size)]\n",
    "\n",
    "    for i in range(length):\n",
    "        char = name_no_space[i]\n",
    "        for j in range(i, size - i):\n",
    "            matrix[i][j] = char\n",
    "            matrix[j][i] = char\n",
    "            matrix[size - i - 1][j] = char\n",
    "            matrix[j][size - i - 1] = char\n",
    "\n",
    "    for row in matrix:\n",
    "        print(' '.join(row))\n",
    "\n",
    "name = input(\"Enter your name: \")\n",
    "create_concentric_squares(name)"
   ]
  },
  {
   "cell_type": "code",
   "execution_count": null,
   "id": "96c14607-d10b-470e-a6d4-003750b08324",
   "metadata": {},
   "outputs": [],
   "source": []
  }
 ],
 "metadata": {
  "kernelspec": {
   "display_name": "Python 3 (ipykernel)",
   "language": "python",
   "name": "python3"
  },
  "language_info": {
   "codemirror_mode": {
    "name": "ipython",
    "version": 3
   },
   "file_extension": ".py",
   "mimetype": "text/x-python",
   "name": "python",
   "nbconvert_exporter": "python",
   "pygments_lexer": "ipython3",
   "version": "3.12.1"
  }
 },
 "nbformat": 4,
 "nbformat_minor": 5
}
