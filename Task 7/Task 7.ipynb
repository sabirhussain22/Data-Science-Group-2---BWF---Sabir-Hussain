{
 "cells": [
  {
   "cell_type": "markdown",
   "id": "4e814ff3-2174-41e4-b94d-78ba50d378e6",
   "metadata": {},
   "source": [
    "# Object-Oriented Programming (OOP) Basics\n",
    "Object-Oriented Programming (OOP) is a programming paradigm based on the concept of \"objects\", which can contain data and code that manipulates that data. OOP aims to implement real-world entities like inheritance, polymorphism, and encapsulation in programming. Let's break down the core concepts:\n",
    "\n",
    "- **Classes:** A class is a blueprint for creating objects. It defines a set of attributes (data) and methods (functions) that the objects created from the class will have.\n",
    "\n",
    "- **Objects:** An object is an instance of a class. When a class is defined, no memory is allocated until an object of that class is created.\n",
    "\n",
    "- **Methods:** Methods are functions defined inside a class that describe the behaviors of the objects created from the class. They operate on the object's data."
   ]
  },
  {
   "cell_type": "markdown",
   "id": "bc122dd6-3cde-4dc7-aafa-c631a4b54282",
   "metadata": {},
   "source": [
    "### Simple Example"
   ]
  },
  {
   "cell_type": "code",
   "execution_count": 1,
   "id": "1a674f0e-fca6-4282-85bf-4821512be898",
   "metadata": {},
   "outputs": [
    {
     "name": "stdout",
     "output_type": "stream",
     "text": [
      "2021 Toyota Corolla\n",
      "The engine of Toyota Corolla is now running.\n"
     ]
    }
   ],
   "source": [
    "class Car:\n",
    "    def __init__(self, make, model, year):\n",
    "        self.make = make\n",
    "        self.model = model\n",
    "        self.year = year\n",
    "\n",
    "    def display_details(self):\n",
    "        print(f\"{self.year} {self.make} {self.model}\")\n",
    "\n",
    "    def start_engine(self):\n",
    "        print(f\"The engine of {self.make} {self.model} is now running.\")\n",
    "\n",
    "my_car = Car(\"Toyota\", \"Corolla\", 2021)\n",
    "\n",
    "my_car.display_details()  \n",
    "my_car.start_engine()     \n"
   ]
  },
  {
   "cell_type": "markdown",
   "id": "0c4029b7-6a1c-4a7a-a81f-0d3b8368c58f",
   "metadata": {},
   "source": [
    "## Practical Example (Library Management System)"
   ]
  },
  {
   "cell_type": "code",
   "execution_count": 2,
   "id": "32122108-7d68-4cb0-8dc5-f415956b9232",
   "metadata": {},
   "outputs": [],
   "source": [
    "from tabulate import tabulate\n",
    "\n",
    "class Book:\n",
    "    def __init__(self, title, author, ISBN):\n",
    "        self.title = title\n",
    "        self.author = author\n",
    "        self.ISBN = ISBN\n",
    "        self.status = 'available'\n",
    "\n",
    "    def display_info(self):\n",
    "        return [self.title, self.author, self.ISBN, self.status]\n",
    "\n",
    "    def mark_as_borrowed(self):\n",
    "        if self.status == 'available':\n",
    "            self.status = 'borrowed'\n",
    "            return True\n",
    "        return False\n",
    "\n",
    "    def mark_as_returned(self):\n",
    "        if self.status == 'borrowed':\n",
    "            self.status = 'available'\n",
    "            return True\n",
    "        return False"
   ]
  },
  {
   "cell_type": "code",
   "execution_count": 3,
   "id": "0aa15161-4a7b-4bc4-9243-f5d7f041e4db",
   "metadata": {},
   "outputs": [],
   "source": [
    "class Member:\n",
    "    def __init__(self, name, member_id):\n",
    "        self.name = name\n",
    "        self.member_id = member_id\n",
    "        self.borrowed_books = []\n",
    "\n",
    "    def borrow_book(self, book):\n",
    "        if book.mark_as_borrowed():\n",
    "            self.borrowed_books.append(book)\n",
    "            print(f\"{self.name} has borrowed {book.title}.\")\n",
    "        else:\n",
    "            print(f\"{book.title} is already borrowed.\")\n",
    "\n",
    "    def return_book(self, book):\n",
    "        if book in self.borrowed_books and book.mark_as_returned():\n",
    "            self.borrowed_books.remove(book)\n",
    "            print(f\"{self.name} has returned {book.title}.\")\n",
    "        else:\n",
    "            print(f\"{self.name} does not have {book.title} borrowed or it's already returned.\")\n",
    "\n",
    "    def display_info(self):\n",
    "        borrowed_books_titles = [book.title for book in self.borrowed_books]\n",
    "        return [self.name, self.member_id, ', '.join(borrowed_books_titles)]\n"
   ]
  },
  {
   "cell_type": "code",
   "execution_count": 4,
   "id": "9d7f8aca-5f71-4a4d-85ae-0b318b71ac34",
   "metadata": {},
   "outputs": [],
   "source": [
    "class Library:\n",
    "    def __init__(self):\n",
    "        self.books = []\n",
    "        self.members = []\n",
    "\n",
    "    def add_book(self, book):\n",
    "        self.books.append(book)\n",
    "        print(f\"Added book: {book.title}\")\n",
    "\n",
    "    def register_member(self, member):\n",
    "        self.members.append(member)\n",
    "        print(f\"Registered member: {member.name}\")\n",
    "\n",
    "    def issue_book(self, member_id, ISBN):\n",
    "        member = self.find_member_by_id(member_id)\n",
    "        book = self.find_book_by_ISBN(ISBN)\n",
    "        if member and book:\n",
    "            member.borrow_book(book)\n",
    "\n",
    "    def return_book(self, member_id, ISBN):\n",
    "        member = self.find_member_by_id(member_id)\n",
    "        book = self.find_book_by_ISBN(ISBN)\n",
    "        if member and book:\n",
    "            member.return_book(book)\n",
    "\n",
    "    def display_all_books(self):\n",
    "        print(\"Library Books:\")\n",
    "        headers = [\"Title\", \"Author\", \"ISBN\", \"Status\"]\n",
    "        rows = [book.display_info() for book in self.books]\n",
    "        print(tabulate(rows, headers, tablefmt=\"grid\"))\n",
    "\n",
    "    def display_all_members(self):\n",
    "        print(\"Library Members:\")\n",
    "        headers = [\"Name\", \"Member ID\", \"Borrowed Books\"]\n",
    "        rows = [member.display_info() for member in self.members]\n",
    "        print(tabulate(rows, headers, tablefmt=\"grid\"))\n",
    "\n",
    "    def find_book_by_ISBN(self, ISBN):\n",
    "        for book in self.books:\n",
    "            if book.ISBN == ISBN:\n",
    "                return book\n",
    "        print(f\"No book found with ISBN {ISBN}\")\n",
    "        return None\n",
    "\n",
    "    def find_member_by_id(self, member_id):\n",
    "        for member in self.members:\n",
    "            if member.member_id == member_id:\n",
    "                return member\n",
    "        print(f\"No member found with ID {member_id}\")\n",
    "        return None\n"
   ]
  },
  {
   "cell_type": "code",
   "execution_count": 5,
   "id": "1f97c107-7c97-4775-820a-c379f301d205",
   "metadata": {},
   "outputs": [
    {
     "name": "stdout",
     "output_type": "stream",
     "text": [
      "\n",
      "Library Management System\n",
      "1. Add Book\n",
      "2. Register Member\n",
      "3. Issue Book\n",
      "4. Return Book\n",
      "5. Display All Books\n",
      "6. Display All Members\n",
      "7. Exit\n"
     ]
    },
    {
     "name": "stdin",
     "output_type": "stream",
     "text": [
      "Enter your choice:  1\n",
      "Enter book title:  Pride and Prejudice\n",
      "Enter book author:  Jane Austen\n",
      "Enter book ISBN:  9780141439518\n"
     ]
    },
    {
     "name": "stdout",
     "output_type": "stream",
     "text": [
      "Added book: Pride and Prejudice\n",
      "\n",
      "Library Management System\n",
      "1. Add Book\n",
      "2. Register Member\n",
      "3. Issue Book\n",
      "4. Return Book\n",
      "5. Display All Books\n",
      "6. Display All Members\n",
      "7. Exit\n"
     ]
    },
    {
     "name": "stdin",
     "output_type": "stream",
     "text": [
      "Enter your choice:  1\n",
      "Enter book title:  The Catcher in the Rye\n",
      "Enter book author:  J.D. Salinger\n",
      "Enter book ISBN:  9780316769488\n"
     ]
    },
    {
     "name": "stdout",
     "output_type": "stream",
     "text": [
      "Added book: The Catcher in the Rye\n",
      "\n",
      "Library Management System\n",
      "1. Add Book\n",
      "2. Register Member\n",
      "3. Issue Book\n",
      "4. Return Book\n",
      "5. Display All Books\n",
      "6. Display All Members\n",
      "7. Exit\n"
     ]
    },
    {
     "name": "stdin",
     "output_type": "stream",
     "text": [
      "Enter your choice:  1\n",
      "Enter book title:  Brave New World\n",
      "Enter book author:  Aldous Huxley\n",
      "Enter book ISBN:  9780060850524\n"
     ]
    },
    {
     "name": "stdout",
     "output_type": "stream",
     "text": [
      "Added book: Brave New World\n",
      "\n",
      "Library Management System\n",
      "1. Add Book\n",
      "2. Register Member\n",
      "3. Issue Book\n",
      "4. Return Book\n",
      "5. Display All Books\n",
      "6. Display All Members\n",
      "7. Exit\n"
     ]
    },
    {
     "name": "stdin",
     "output_type": "stream",
     "text": [
      "Enter your choice:  2\n",
      "Enter member name:  Sabir hussain\n",
      "Enter member ID:  M001\n"
     ]
    },
    {
     "name": "stdout",
     "output_type": "stream",
     "text": [
      "Registered member: Sabir hussain\n",
      "\n",
      "Library Management System\n",
      "1. Add Book\n",
      "2. Register Member\n",
      "3. Issue Book\n",
      "4. Return Book\n",
      "5. Display All Books\n",
      "6. Display All Members\n",
      "7. Exit\n"
     ]
    },
    {
     "name": "stdin",
     "output_type": "stream",
     "text": [
      "Enter your choice:  3\n",
      "Enter member ID:  M001\n",
      "Enter book ISBN:  9780060850524\n"
     ]
    },
    {
     "name": "stdout",
     "output_type": "stream",
     "text": [
      "Sabir hussain has borrowed Brave New World.\n",
      "\n",
      "Library Management System\n",
      "1. Add Book\n",
      "2. Register Member\n",
      "3. Issue Book\n",
      "4. Return Book\n",
      "5. Display All Books\n",
      "6. Display All Members\n",
      "7. Exit\n"
     ]
    },
    {
     "name": "stdin",
     "output_type": "stream",
     "text": [
      "Enter your choice:  6\n"
     ]
    },
    {
     "name": "stdout",
     "output_type": "stream",
     "text": [
      "Library Members:\n",
      "+---------------+-------------+------------------+\n",
      "| Name          | Member ID   | Borrowed Books   |\n",
      "+===============+=============+==================+\n",
      "| Sabir hussain | M001        | Brave New World  |\n",
      "+---------------+-------------+------------------+\n",
      "\n",
      "Library Management System\n",
      "1. Add Book\n",
      "2. Register Member\n",
      "3. Issue Book\n",
      "4. Return Book\n",
      "5. Display All Books\n",
      "6. Display All Members\n",
      "7. Exit\n"
     ]
    },
    {
     "name": "stdin",
     "output_type": "stream",
     "text": [
      "Enter your choice:  5\n"
     ]
    },
    {
     "name": "stdout",
     "output_type": "stream",
     "text": [
      "Library Books:\n",
      "+------------------------+---------------+---------------+-----------+\n",
      "| Title                  | Author        |          ISBN | Status    |\n",
      "+========================+===============+===============+===========+\n",
      "| Pride and Prejudice    | Jane Austen   | 9780141439518 | available |\n",
      "+------------------------+---------------+---------------+-----------+\n",
      "| The Catcher in the Rye | J.D. Salinger | 9780316769488 | available |\n",
      "+------------------------+---------------+---------------+-----------+\n",
      "| Brave New World        | Aldous Huxley | 9780060850524 | borrowed  |\n",
      "+------------------------+---------------+---------------+-----------+\n",
      "\n",
      "Library Management System\n",
      "1. Add Book\n",
      "2. Register Member\n",
      "3. Issue Book\n",
      "4. Return Book\n",
      "5. Display All Books\n",
      "6. Display All Members\n",
      "7. Exit\n"
     ]
    },
    {
     "name": "stdin",
     "output_type": "stream",
     "text": [
      "Enter your choice:  2\n",
      "Enter member name:  Abdul Rehman\n",
      "Enter member ID:  M002\n"
     ]
    },
    {
     "name": "stdout",
     "output_type": "stream",
     "text": [
      "Registered member: Abdul Rehman\n",
      "\n",
      "Library Management System\n",
      "1. Add Book\n",
      "2. Register Member\n",
      "3. Issue Book\n",
      "4. Return Book\n",
      "5. Display All Books\n",
      "6. Display All Members\n",
      "7. Exit\n"
     ]
    },
    {
     "name": "stdin",
     "output_type": "stream",
     "text": [
      "Enter your choice:  3\n",
      "Enter member ID:  M002\n",
      "Enter book ISBN:  9780316769488\n"
     ]
    },
    {
     "name": "stdout",
     "output_type": "stream",
     "text": [
      "Abdul Rehman has borrowed The Catcher in the Rye.\n",
      "\n",
      "Library Management System\n",
      "1. Add Book\n",
      "2. Register Member\n",
      "3. Issue Book\n",
      "4. Return Book\n",
      "5. Display All Books\n",
      "6. Display All Members\n",
      "7. Exit\n"
     ]
    },
    {
     "name": "stdin",
     "output_type": "stream",
     "text": [
      "Enter your choice:  5\n"
     ]
    },
    {
     "name": "stdout",
     "output_type": "stream",
     "text": [
      "Library Books:\n",
      "+------------------------+---------------+---------------+-----------+\n",
      "| Title                  | Author        |          ISBN | Status    |\n",
      "+========================+===============+===============+===========+\n",
      "| Pride and Prejudice    | Jane Austen   | 9780141439518 | available |\n",
      "+------------------------+---------------+---------------+-----------+\n",
      "| The Catcher in the Rye | J.D. Salinger | 9780316769488 | borrowed  |\n",
      "+------------------------+---------------+---------------+-----------+\n",
      "| Brave New World        | Aldous Huxley | 9780060850524 | borrowed  |\n",
      "+------------------------+---------------+---------------+-----------+\n",
      "\n",
      "Library Management System\n",
      "1. Add Book\n",
      "2. Register Member\n",
      "3. Issue Book\n",
      "4. Return Book\n",
      "5. Display All Books\n",
      "6. Display All Members\n",
      "7. Exit\n"
     ]
    },
    {
     "name": "stdin",
     "output_type": "stream",
     "text": [
      "Enter your choice:  6\n"
     ]
    },
    {
     "name": "stdout",
     "output_type": "stream",
     "text": [
      "Library Members:\n",
      "+---------------+-------------+------------------------+\n",
      "| Name          | Member ID   | Borrowed Books         |\n",
      "+===============+=============+========================+\n",
      "| Sabir hussain | M001        | Brave New World        |\n",
      "+---------------+-------------+------------------------+\n",
      "| Abdul Rehman  | M002        | The Catcher in the Rye |\n",
      "+---------------+-------------+------------------------+\n",
      "\n",
      "Library Management System\n",
      "1. Add Book\n",
      "2. Register Member\n",
      "3. Issue Book\n",
      "4. Return Book\n",
      "5. Display All Books\n",
      "6. Display All Members\n",
      "7. Exit\n"
     ]
    },
    {
     "name": "stdin",
     "output_type": "stream",
     "text": [
      "Enter your choice:  4\n",
      "Enter member ID:  M002\n",
      "Enter book ISBN:  9780316769488\n"
     ]
    },
    {
     "name": "stdout",
     "output_type": "stream",
     "text": [
      "Abdul Rehman has returned The Catcher in the Rye.\n",
      "\n",
      "Library Management System\n",
      "1. Add Book\n",
      "2. Register Member\n",
      "3. Issue Book\n",
      "4. Return Book\n",
      "5. Display All Books\n",
      "6. Display All Members\n",
      "7. Exit\n"
     ]
    },
    {
     "name": "stdin",
     "output_type": "stream",
     "text": [
      "Enter your choice:  5\n"
     ]
    },
    {
     "name": "stdout",
     "output_type": "stream",
     "text": [
      "Library Books:\n",
      "+------------------------+---------------+---------------+-----------+\n",
      "| Title                  | Author        |          ISBN | Status    |\n",
      "+========================+===============+===============+===========+\n",
      "| Pride and Prejudice    | Jane Austen   | 9780141439518 | available |\n",
      "+------------------------+---------------+---------------+-----------+\n",
      "| The Catcher in the Rye | J.D. Salinger | 9780316769488 | available |\n",
      "+------------------------+---------------+---------------+-----------+\n",
      "| Brave New World        | Aldous Huxley | 9780060850524 | borrowed  |\n",
      "+------------------------+---------------+---------------+-----------+\n",
      "\n",
      "Library Management System\n",
      "1. Add Book\n",
      "2. Register Member\n",
      "3. Issue Book\n",
      "4. Return Book\n",
      "5. Display All Books\n",
      "6. Display All Members\n",
      "7. Exit\n"
     ]
    },
    {
     "name": "stdin",
     "output_type": "stream",
     "text": [
      "Enter your choice:  6\n"
     ]
    },
    {
     "name": "stdout",
     "output_type": "stream",
     "text": [
      "Library Members:\n",
      "+---------------+-------------+------------------+\n",
      "| Name          | Member ID   | Borrowed Books   |\n",
      "+===============+=============+==================+\n",
      "| Sabir hussain | M001        | Brave New World  |\n",
      "+---------------+-------------+------------------+\n",
      "| Abdul Rehman  | M002        |                  |\n",
      "+---------------+-------------+------------------+\n",
      "\n",
      "Library Management System\n",
      "1. Add Book\n",
      "2. Register Member\n",
      "3. Issue Book\n",
      "4. Return Book\n",
      "5. Display All Books\n",
      "6. Display All Members\n",
      "7. Exit\n"
     ]
    },
    {
     "name": "stdin",
     "output_type": "stream",
     "text": [
      "Enter your choice:  7\n"
     ]
    },
    {
     "name": "stdout",
     "output_type": "stream",
     "text": [
      "Exiting the system. Goodbye!\n"
     ]
    }
   ],
   "source": [
    "def main():\n",
    "    library = Library()\n",
    "\n",
    "    while True:\n",
    "        print(\"\\nLibrary Management System\")\n",
    "        print(\"1. Add Book\")\n",
    "        print(\"2. Register Member\")\n",
    "        print(\"3. Issue Book\")\n",
    "        print(\"4. Return Book\")\n",
    "        print(\"5. Display All Books\")\n",
    "        print(\"6. Display All Members\")\n",
    "        print(\"7. Exit\")\n",
    "\n",
    "        choice = input(\"Enter your choice: \")\n",
    "\n",
    "        if choice == '1':\n",
    "            title = input(\"Enter book title: \")\n",
    "            author = input(\"Enter book author: \")\n",
    "            ISBN = input(\"Enter book ISBN: \")\n",
    "            book = Book(title, author, ISBN)\n",
    "            library.add_book(book)\n",
    "\n",
    "        elif choice == '2':\n",
    "            name = input(\"Enter member name: \")\n",
    "            member_id = input(\"Enter member ID: \")\n",
    "            member = Member(name, member_id)\n",
    "            library.register_member(member)\n",
    "\n",
    "        elif choice == '3':\n",
    "            member_id = input(\"Enter member ID: \")\n",
    "            ISBN = input(\"Enter book ISBN: \")\n",
    "            library.issue_book(member_id, ISBN)\n",
    "\n",
    "        elif choice == '4':\n",
    "            member_id = input(\"Enter member ID: \")\n",
    "            ISBN = input(\"Enter book ISBN: \")\n",
    "            library.return_book(member_id, ISBN)\n",
    "\n",
    "        elif choice == '5':\n",
    "            library.display_all_books()\n",
    "\n",
    "        elif choice == '6':\n",
    "            library.display_all_members()\n",
    "\n",
    "        elif choice == '7':\n",
    "            print(\"Exiting the system. Goodbye!\")\n",
    "            break\n",
    "\n",
    "        else:\n",
    "            print(\"Invalid choice! Please try again.\")\n",
    "main()"
   ]
  },
  {
   "cell_type": "code",
   "execution_count": null,
   "id": "804ccfcb-71fa-4294-bd37-9eff41bc5a47",
   "metadata": {},
   "outputs": [],
   "source": []
  },
  {
   "cell_type": "code",
   "execution_count": null,
   "id": "e0c027dd-fed9-42d7-a077-e6c171c3d40c",
   "metadata": {},
   "outputs": [],
   "source": []
  },
  {
   "cell_type": "code",
   "execution_count": null,
   "id": "2509d16c-31dd-4735-a3a5-d2df8b3dd947",
   "metadata": {},
   "outputs": [],
   "source": []
  }
 ],
 "metadata": {
  "kernelspec": {
   "display_name": "Python 3 (ipykernel)",
   "language": "python",
   "name": "python3"
  },
  "language_info": {
   "codemirror_mode": {
    "name": "ipython",
    "version": 3
   },
   "file_extension": ".py",
   "mimetype": "text/x-python",
   "name": "python",
   "nbconvert_exporter": "python",
   "pygments_lexer": "ipython3",
   "version": "3.12.1"
  }
 },
 "nbformat": 4,
 "nbformat_minor": 5
}
