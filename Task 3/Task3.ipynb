{
 "cells": [
  {
   "cell_type": "markdown",
   "id": "ecdadbb8-9a96-4625-ac3c-879d886c7173",
   "metadata": {},
   "source": [
    "# Task 3: Jupyter Notebook Setup\n",
    "\n",
    "## Introduction\n",
    "This notebook demonstrates how to create and use Jupyter Notebook.\n",
    "\n",
    "## Headings\n",
    "### Heading Level 3\n",
    "#### Heading Level 4\n",
    "##### Heading Level 5\n",
    "\n",
    "## Text Formatting\n",
    "- **Bold Text**\n",
    "- *Italic Text*\n",
    "- __Another Bold Text Example__\n",
    "- _Another Italic Text Example_\n",
    "\n",
    "## Lists\n",
    "- Item 1\n",
    "- Item 2\n",
    "  - Subitem 1\n",
    "  - Subitem 2\n",
    "\n",
    "1. First item\n",
    "2. Second item\n",
    "\n",
    "## Links\n",
    "[My_Github](https://github.com/sabirhussain22/Data-Science_Group-2_BWF_Sabir-Hussain)\n",
    "\n",
    "## Images\n",
    "![Sample Image](https://th.bing.com/th/id/OIP.LKTDEYQSGQuHjZJSVHyrewHaHa?pid=ImgDet&w=168&h=168.45652173913044&c=7&dpr=1.3)\n"
   ]
  },
  {
   "cell_type": "code",
   "execution_count": null,
   "id": "cd1b9110-54ad-4632-85c3-ccb7e0bfe983",
   "metadata": {},
   "outputs": [],
   "source": []
  }
 ],
 "metadata": {
  "kernelspec": {
   "display_name": "Python 3 (ipykernel)",
   "language": "python",
   "name": "python3"
  },
  "language_info": {
   "codemirror_mode": {
    "name": "ipython",
    "version": 3
   },
   "file_extension": ".py",
   "mimetype": "text/x-python",
   "name": "python",
   "nbconvert_exporter": "python",
   "pygments_lexer": "ipython3",
   "version": "3.12.1"
  }
 },
 "nbformat": 4,
 "nbformat_minor": 5
}
