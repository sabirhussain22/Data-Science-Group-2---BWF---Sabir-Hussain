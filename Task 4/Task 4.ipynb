{
 "cells": [
  {
   "cell_type": "markdown",
   "id": "2f3c68a8-c560-4871-bf3f-56d0e1f04533",
   "metadata": {},
   "source": [
    "## Python Basics (Variable, Datatypes, Operators)"
   ]
  },
  {
   "cell_type": "markdown",
   "id": "34628f6b-60bc-411c-b523-fad42886e743",
   "metadata": {},
   "source": [
    "### Variables:\n",
    "\n",
    "In Python, variables are used to store data values. You can think of them as containers for storing information. When you assign a value to a variable, you are essentially telling the computer to remember that value by a specific name. For example, you can create a variable called age and assign it the value 25 like this: age = 25.\n",
    "\n",
    "### Basic Data Types:\n",
    "\n",
    "Python has several basic data types:\n",
    "1. *Integers (int):* These are whole numbers without any decimal points, like 5, -3, 100.\n",
    "2. *Float (float):* These are numbers with decimal points, like 3.14, -0.001, 2.5.\n",
    "3. *Strings (str):* These are sequences of characters enclosed in single or double quotes, like \"Hello, World!\", 'Python', \"123\".\n",
    "4. *Boolean (bool):* These can only have two values: True or False. They are often used in conditions and comparisons.\n",
    "\n",
    "### Operators:\n",
    "\n",
    "Operators in Python are symbols that perform operations on variables and values. Here are some common operators:\n",
    "1. *Arithmetic Operators:* Used for basic math operations like addition (+), subtraction (-), multiplication (), division (/), modulus (%), and exponentiation (*).\n",
    "2. *Comparison Operators:* Used to compare two values. Examples include equal to (==), not equal to (!=), greater than (>), less than (<), etc.\n",
    "3. *Logical Operators:* Used to combine conditional statements. For example, and, or, not.\n",
    "4. *Assignment Operators:* Used to assign values to variables. For example, = assigns the value on the right to the variable on the left."
   ]
  },
  {
   "cell_type": "markdown",
   "id": "c9321a0b-c8bf-4c66-b4eb-e0a87795c1df",
   "metadata": {},
   "source": [
    "# Example Projects "
   ]
  },
  {
   "cell_type": "markdown",
   "id": "5d278dc6-b67c-4a1c-8b4c-5b5c8a8a730e",
   "metadata": {},
   "source": [
    "### Payroll Calculator"
   ]
  },
  {
   "cell_type": "code",
   "execution_count": 41,
   "id": "ee180d37-81ad-4259-949f-123834d6f542",
   "metadata": {},
   "outputs": [
    {
     "name": "stdin",
     "output_type": "stream",
     "text": [
      "Enter hours of work:  40\n",
      "Enter wage of work per hour:  20\n"
     ]
    },
    {
     "name": "stdout",
     "output_type": "stream",
     "text": [
      "\n",
      "Gross pay for 40 hours at $20/hour is $800.00\n"
     ]
    }
   ],
   "source": [
    "hours_worked = int(input(\"Enter hours of work: \"))\n",
    "hourly_wage = int(input(\"Enter wage of work per hour: \"))\n",
    "\n",
    "gross_pay = hours_worked * hourly_wage\n",
    "print(f\"\\nGross pay for {hours_worked} hours at ${hourly_wage}/hour is ${gross_pay:.2f}\")"
   ]
  },
  {
   "cell_type": "markdown",
   "id": "547474dc-4788-45b0-bb37-ea360df1260c",
   "metadata": {},
   "source": [
    "### Temperature Converter:"
   ]
  },
  {
   "cell_type": "code",
   "execution_count": 43,
   "id": "4c04bd6e-549f-4f84-9b09-a231d6402f03",
   "metadata": {},
   "outputs": [
    {
     "name": "stdin",
     "output_type": "stream",
     "text": [
      "Enter Temperature in celcius:  37\n"
     ]
    },
    {
     "name": "stdout",
     "output_type": "stream",
     "text": [
      "\n",
      "37°C is 98.6°F\n"
     ]
    }
   ],
   "source": [
    "temp = int(input(\"Enter Temperature in celcius: \"))\n",
    "\n",
    "fahrenheit = (temp * 9/5) + 32\n",
    "print(f\"\\n{temp}°C is {fahrenheit}°F\")\n"
   ]
  },
  {
   "cell_type": "markdown",
   "id": "64962195-60d1-4be3-ac74-7a5ecf9168c8",
   "metadata": {},
   "source": [
    "### Loan EMI Calculator"
   ]
  },
  {
   "cell_type": "code",
   "execution_count": 45,
   "id": "c31642c8-bc93-4bf7-9673-7ff2321f02d6",
   "metadata": {},
   "outputs": [
    {
     "name": "stdin",
     "output_type": "stream",
     "text": [
      "Enter Principle Amount:  50000\n",
      "Enter Annual Interest Rate:  7\n",
      "Enter time in years:  8\n"
     ]
    },
    {
     "name": "stdout",
     "output_type": "stream",
     "text": [
      "\n",
      "Monthly EMI for a loan of $50000 at 7% annual rate for 8 years is $681.69\n"
     ]
    }
   ],
   "source": [
    "principal = int(input(\"Enter Principle Amount: \"))\n",
    "annual_rate = int(input(\"Enter Annual Interest Rate: \"))\n",
    "tenure_years = int(input(\"Enter time in years: \"))  \n",
    "\n",
    "monthly_rate = annual_rate / (12 * 100)  # Monthly interest rate\n",
    "tenure_months = tenure_years * 12  # Loan tenure in months\n",
    "emi = (principal * monthly_rate * ((1 + monthly_rate) ** tenure_months)) / (((1 + monthly_rate) ** tenure_months) - 1)\n",
    "\n",
    "print(f\"\\nMonthly EMI for a loan of ${principal} at {annual_rate}% annual rate for {tenure_years} years is ${emi:.2f}\")"
   ]
  },
  {
   "cell_type": "code",
   "execution_count": null,
   "id": "43a9e652-f3de-4db7-9ac3-a8bc0aea8c22",
   "metadata": {},
   "outputs": [],
   "source": []
  }
 ],
 "metadata": {
  "kernelspec": {
   "display_name": "Python 3 (ipykernel)",
   "language": "python",
   "name": "python3"
  },
  "language_info": {
   "codemirror_mode": {
    "name": "ipython",
    "version": 3
   },
   "file_extension": ".py",
   "mimetype": "text/x-python",
   "name": "python",
   "nbconvert_exporter": "python",
   "pygments_lexer": "ipython3",
   "version": "3.12.1"
  }
 },
 "nbformat": 4,
 "nbformat_minor": 5
}
