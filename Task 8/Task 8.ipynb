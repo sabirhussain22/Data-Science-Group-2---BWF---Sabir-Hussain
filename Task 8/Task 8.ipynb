{
 "cells": [
  {
   "cell_type": "markdown",
   "id": "d3a367cb-a5ea-4e21-a076-85c1a983e30e",
   "metadata": {},
   "source": [
    "# Task 8: Simple Data Structures in Python (Dictionary, Set, List, Tuple)"
   ]
  },
  {
   "cell_type": "markdown",
   "id": "f6460c31-ac88-4d87-ae64-47c7ca1acefe",
   "metadata": {},
   "source": [
    "## List\n",
    "Lists are ordered collections of items. They are mutable, meaning you can change their content after creation.\n",
    "#### **Key Features:**\n",
    "**Creation:** Lists are created using square brackets [] and can contain items of different data types.\n",
    "\n",
    "**Accessing** Elements: Elements in a list are accessed using indexing (0-based).\n",
    "\n",
    "**Modifying Elements:** You can modify elements by directly assigning new values to specific indices.\n",
    "\n",
    "**Adding Elements:** Items can be added to the end of a list using the append() method.\n",
    "\n",
    "**Removing Elements:** Items can be removed by value using remove() or by index using del keyword."
   ]
  },
  {
   "cell_type": "code",
   "execution_count": 1,
   "id": "a90427a9-4e51-45f3-8a1c-4c64b1251ac2",
   "metadata": {},
   "outputs": [
    {
     "name": "stdout",
     "output_type": "stream",
     "text": [
      "First task: Buy groceries\n",
      "Updated list: ['Buy groceries', 'Finish reading book', 'Exercise', 'Call friend']\n",
      "List after adding a task: ['Buy groceries', 'Finish reading book', 'Exercise', 'Call friend', 'Write Python code']\n",
      "List after removing a task: ['Buy groceries', 'Finish reading book', 'Call friend', 'Write Python code']\n",
      "Sorted to-do list: ['Buy groceries', 'Call friend', 'Finish reading book', 'Write Python code']\n",
      "List after inserting a task: ['Buy groceries', 'Clean the house', 'Call friend', 'Finish reading book', 'Write Python code']\n",
      "Popped task: Write Python code\n",
      "List after popping a task: ['Buy groceries', 'Clean the house', 'Call friend', 'Finish reading book']\n"
     ]
    }
   ],
   "source": [
    "to_do_list = [\"Buy groceries\", \"Read book\", \"Exercise\", \"Call friend\"]\n",
    "print(f\"First task: {to_do_list[0]}\")\n",
    "\n",
    "to_do_list[1] = \"Finish reading book\"\n",
    "print(f\"Updated list: {to_do_list}\")\n",
    "\n",
    "to_do_list.append(\"Write Python code\")\n",
    "print(f\"List after adding a task: {to_do_list}\")\n",
    "\n",
    "to_do_list.remove(\"Exercise\")\n",
    "print(f\"List after removing a task: {to_do_list}\")\n",
    "\n",
    "to_do_list.sort()\n",
    "print(f\"Sorted to-do list: {to_do_list}\")\n",
    "\n",
    "to_do_list.insert(1, \"Clean the house\")\n",
    "print(f\"List after inserting a task: {to_do_list}\")\n",
    "\n",
    "last_task = to_do_list.pop()\n",
    "print(f\"Popped task: {last_task}\")\n",
    "print(f\"List after popping a task: {to_do_list}\")"
   ]
  },
  {
   "cell_type": "markdown",
   "id": "efd07058-a558-433b-96f8-a3a3ee08a3a4",
   "metadata": {},
   "source": [
    "## Tuple\n",
    "Description: Tuples are ordered collections similar to lists but are immutable, meaning their elements cannot be changed after creation.\n",
    "#### **Key Features:**\n",
    "**Creation:** Tuples are created using parentheses ().\n",
    "\n",
    "**Accessing Elements:** Elements in a tuple are accessed using indexing.\n",
    "\n",
    "**Immutable Nature:** Once a tuple is created, its elements cannot be modified.\n",
    "\n",
    "**Use cases:** Tuples are useful for representing fixed collections of items, such as coordinates or records."
   ]
  },
  {
   "cell_type": "code",
   "execution_count": 2,
   "id": "9272abaf-446b-41fa-87ef-8118cd794c68",
   "metadata": {},
   "outputs": [
    {
     "name": "stdout",
     "output_type": "stream",
     "text": [
      "Latitude: 34.0522, Longitude: -118.2437\n",
      "Unpacked Latitude: 34.0522, Longitude: -118.2437\n",
      "City: New York, Coordinates: (40.7128, -74.006)\n",
      "City: Los Angeles, Coordinates: (34.0522, -118.2437)\n"
     ]
    }
   ],
   "source": [
    "coordinates = (34.0522, -118.2437)\n",
    "\n",
    "latitude = coordinates[0]\n",
    "longitude = coordinates[1]\n",
    "print(f\"Latitude: {latitude}, Longitude: {longitude}\")\n",
    "\n",
    "(lat, lon) = coordinates\n",
    "print(f\"Unpacked Latitude: {lat}, Longitude: {lon}\")\n",
    "\n",
    "locations = [(\"New York\", (40.7128, -74.0060)), (\"Los Angeles\", (34.0522, -118.2437))]\n",
    "for city, coord in locations:\n",
    "    print(f\"City: {city}, Coordinates: {coord}\")"
   ]
  },
  {
   "cell_type": "markdown",
   "id": "75ca5066-45e5-4c4e-ae68-c5d875b30d1a",
   "metadata": {},
   "source": [
    "## Set\n",
    "Sets are unordered collections of unique elements. They are mutable, allowing for the addition and removal of elements.\n",
    "#### **Key Features:**\n",
    "**Creation:** Sets are created using curly braces {} or the set() constructor.\n",
    "\n",
    "**Adding Elements:** Elements are added to a set using the add() method.\n",
    "    \n",
    "**Removing Elements:** Elements are removed using the remove() method.\n",
    "    \n",
    "**Unique Elements:** Sets automatically handle duplicates by storing only unique values."
   ]
  },
  {
   "cell_type": "code",
   "execution_count": 3,
   "id": "b65eeaab-3759-4a0f-8277-aa05ef1af141",
   "metadata": {},
   "outputs": [
    {
     "name": "stdout",
     "output_type": "stream",
     "text": [
      "Unique items set: {'cherry', 'banana', 'apple'}\n",
      "Set after adding an item: {'date', 'cherry', 'banana', 'apple'}\n",
      "Set after removing an item: {'date', 'cherry', 'apple'}\n",
      "Union of sets: {'date', 'apple', 'cherry', 'elderberry', 'fig'}\n",
      "Intersection of sets: {'date', 'cherry'}\n",
      "Difference of sets: {'apple'}\n",
      "Is 'apple' in the set? True\n"
     ]
    }
   ],
   "source": [
    "unique_items = {\"apple\", \"banana\", \"cherry\", \"apple\", \"banana\"}\n",
    "print(f\"Unique items set: {unique_items}\")\n",
    "\n",
    "unique_items.add(\"date\")\n",
    "print(f\"Set after adding an item: {unique_items}\")\n",
    "\n",
    "unique_items.remove(\"banana\")\n",
    "print(f\"Set after removing an item: {unique_items}\")\n",
    "\n",
    "another_set = {\"cherry\", \"date\", \"elderberry\", \"fig\"}\n",
    "\n",
    "union_set = unique_items.union(another_set)\n",
    "print(f\"Union of sets: {union_set}\")\n",
    "\n",
    "intersection_set = unique_items.intersection(another_set)\n",
    "print(f\"Intersection of sets: {intersection_set}\")\n",
    "\n",
    "difference_set = unique_items.difference(another_set)\n",
    "print(f\"Difference of sets: {difference_set}\")\n",
    "\n",
    "is_apple_in_set = \"apple\" in unique_items\n",
    "print(f\"Is 'apple' in the set? {is_apple_in_set}\")"
   ]
  },
  {
   "cell_type": "markdown",
   "id": "57e47803-ac03-4f36-8626-79b6da5a1a35",
   "metadata": {},
   "source": [
    "## Dictionary\n",
    "Dictionaries are unordered collections of key-value pairs. Keys are unique within a dictionary, and they are used to access associated values.\n",
    "#### **Key Features:**\n",
    "**Creation:** Dictionaries are created using curly braces {} with key-value pairs separated by colons :.\n",
    "\n",
    "**Accessing Elements:** Elements are accessed using keys inside square brackets [].\n",
    "\n",
    "**Modifying Elements:** Values associated with keys can be modified by assigning new values to the keys.\n",
    "    \n",
    "**Adding Elements:** New key-value pairs can be added by assigning values to new keys.\n",
    "    \n",
    "**Removing Elements:** Elements can be removed using the del keyword followed by the key."
   ]
  },
  {
   "cell_type": "code",
   "execution_count": 4,
   "id": "c9f81318-2438-448c-891e-7ce0dd90bb91",
   "metadata": {},
   "outputs": [
    {
     "name": "stdout",
     "output_type": "stream",
     "text": [
      "Alice's grades: {'Math': 90, 'Science': 85, 'English': 92}\n",
      "Bob's updated grades: {'Math': 80, 'Science': 85, 'English': 92}\n",
      "Charlie's grades after adding History: {'Math': 78, 'Science': 82, 'English': 88, 'History': 89}\n",
      "Alice's grades after removing Science: {'Math': 85, 'English': 91}\n",
      "Student: sabir, Grades: {'Math': 80, 'Science': 85, 'English': 92}\n",
      "Student: hussain, Grades: {'Math': 78, 'Science': 82, 'English': 88, 'History': 89}\n",
      "Student: dilawar, Grades: {'Math': 85, 'English': 91}\n",
      "\n",
      "sabir's Grades:\n",
      "Math: 80\n",
      "Science: 85\n",
      "English: 92\n",
      "\n",
      "hussain's Grades:\n",
      "Math: 78\n",
      "Science: 82\n",
      "English: 88\n",
      "History: 89\n",
      "\n",
      "dilawar's Grades:\n",
      "Math: 85\n",
      "English: 91\n"
     ]
    }
   ],
   "source": [
    "students_grades = {\n",
    "    \"sabir\": {\"Math\": 90, \"Science\": 85, \"English\": 92},\n",
    "    \"hussain\": {\"Math\": 78, \"Science\": 82, \"English\": 88},\n",
    "    \"dilawar\": {\"Math\": 85, \"Science\": 87, \"English\": 91}\n",
    "}\n",
    "alice_grades = students_grades[\"sabir\"]\n",
    "print(f\"Alice's grades: {alice_grades}\")\n",
    "\n",
    "students_grades[\"sabir\"][\"Math\"] = 80\n",
    "print(f\"Bob's updated grades: {students_grades['sabir']}\")\n",
    "\n",
    "students_grades[\"hussain\"][\"History\"] = 89\n",
    "print(f\"Charlie's grades after adding History: {students_grades['hussain']}\")\n",
    "\n",
    "del students_grades[\"dilawar\"][\"Science\"]\n",
    "print(f\"Alice's grades after removing Science: {students_grades['dilawar']}\")\n",
    "\n",
    "for student, grades in students_grades.items():\n",
    "    print(f\"Student: {student}, Grades: {grades}\")\n",
    "\n",
    "for student, grades in students_grades.items():\n",
    "    print(f\"\\n{student}'s Grades:\")\n",
    "    for subject, grade in grades.items():\n",
    "        print(f\"{subject}: {grade}\")"
   ]
  },
  {
   "cell_type": "markdown",
   "id": "340872aa-756e-4c4d-a7f0-db7e53199a0e",
   "metadata": {},
   "source": [
    "## Inventory Management System"
   ]
  },
  {
   "cell_type": "code",
   "execution_count": 5,
   "id": "52309355-8c06-4143-8b66-fdec642144be",
   "metadata": {},
   "outputs": [],
   "source": [
    "from tabulate import tabulate\n",
    "\n",
    "class InventoryManagementSystem:\n",
    "    def __init__(self):\n",
    "        self.products = {}  \n",
    "        self.product_order = []  \n",
    "        self.categories = set() \n",
    "\n",
    "    def add_product(self, product_id, name, category, stock):\n",
    "        if product_id in self.products:\n",
    "            print(f\"Product ID {product_id} already exists. Use update_stock to modify stock.\")\n",
    "            return\n",
    "\n",
    "        product_info = (name, category)\n",
    "        self.products[product_id] = {'info': product_info, 'stock': stock}\n",
    "        self.product_order.append(product_id)\n",
    "        self.categories.add(category)\n",
    "        print(f\"Product {name} added successfully.\")\n",
    "\n",
    "    def update_stock(self, product_id, quantity):\n",
    "        if product_id not in self.products:\n",
    "            print(f\"Product ID {product_id} does not exist. Please add the product first.\")\n",
    "            return\n",
    "\n",
    "        self.products[product_id]['stock'] += quantity\n",
    "        print(f\"Stock updated for Product ID {product_id}. New stock: {self.products[product_id]['stock']}\")\n",
    "\n",
    "    def display_products(self):\n",
    "        print(\"\\nAll Products in Inventory:\")\n",
    "        headers = [\"Product ID\", \"Name\", \"Category\", \"Stock\"]\n",
    "        table = []\n",
    "        for product_id in self.product_order:\n",
    "            product = self.products[product_id]\n",
    "            name, category = product['info']\n",
    "            stock = product['stock']\n",
    "            table.append([product_id, name, category, stock])\n",
    "        print(tabulate(table, headers, tablefmt=\"pretty\"))\n",
    "\n",
    "    def display_by_category(self, category):\n",
    "        print(f\"\\nProducts in Category: {category}\")\n",
    "        headers = [\"Product ID\", \"Name\", \"Stock\"]\n",
    "        table = []\n",
    "        for product_id in self.product_order:\n",
    "            product = self.products[product_id]\n",
    "            name, product_category = product['info']\n",
    "            stock = product['stock']\n",
    "            if product_category == category:\n",
    "                table.append([product_id, name, stock])\n",
    "        print(tabulate(table, headers, tablefmt=\"pretty\"))"
   ]
  },
  {
   "cell_type": "code",
   "execution_count": 6,
   "id": "cb3d1755-6137-44ac-ae99-9266d3f76943",
   "metadata": {},
   "outputs": [
    {
     "name": "stdout",
     "output_type": "stream",
     "text": [
      "\n",
      "Inventory Management System\n",
      "1. Add Product\n",
      "2. Update Stock\n",
      "3. Display All Products\n",
      "4. Display Products by Category\n",
      "5. Exit\n"
     ]
    },
    {
     "name": "stdin",
     "output_type": "stream",
     "text": [
      "Enter your choice (1-5):  1\n",
      "Enter product ID:  P001\n",
      "Enter product name:  Laptop\n",
      "Enter product category:  Electronic\n",
      "Enter stock quantity:  4\n"
     ]
    },
    {
     "name": "stdout",
     "output_type": "stream",
     "text": [
      "Product Laptop added successfully.\n",
      "\n",
      "Inventory Management System\n",
      "1. Add Product\n",
      "2. Update Stock\n",
      "3. Display All Products\n",
      "4. Display Products by Category\n",
      "5. Exit\n"
     ]
    },
    {
     "name": "stdin",
     "output_type": "stream",
     "text": [
      "Enter your choice (1-5):  1\n",
      "Enter product ID:  P002\n",
      "Enter product name:  Chair\n",
      "Enter product category:  Furniture\n",
      "Enter stock quantity:  13\n"
     ]
    },
    {
     "name": "stdout",
     "output_type": "stream",
     "text": [
      "Product Chair added successfully.\n",
      "\n",
      "Inventory Management System\n",
      "1. Add Product\n",
      "2. Update Stock\n",
      "3. Display All Products\n",
      "4. Display Products by Category\n",
      "5. Exit\n"
     ]
    },
    {
     "name": "stdin",
     "output_type": "stream",
     "text": [
      "Enter your choice (1-5):  1\n",
      "Enter product ID:  P003\n",
      "Enter product name:  Pen\n",
      "Enter product category:  Stationary\n",
      "Enter stock quantity:  30\n"
     ]
    },
    {
     "name": "stdout",
     "output_type": "stream",
     "text": [
      "Product Pen added successfully.\n",
      "\n",
      "Inventory Management System\n",
      "1. Add Product\n",
      "2. Update Stock\n",
      "3. Display All Products\n",
      "4. Display Products by Category\n",
      "5. Exit\n"
     ]
    },
    {
     "name": "stdin",
     "output_type": "stream",
     "text": [
      "Enter your choice (1-5):  2\n",
      "Enter product ID:  P003\n",
      "Enter quantity to update (positive to add, negative to subtract):  -10\n"
     ]
    },
    {
     "name": "stdout",
     "output_type": "stream",
     "text": [
      "Stock updated for Product ID P003. New stock: 20\n",
      "\n",
      "Inventory Management System\n",
      "1. Add Product\n",
      "2. Update Stock\n",
      "3. Display All Products\n",
      "4. Display Products by Category\n",
      "5. Exit\n"
     ]
    },
    {
     "name": "stdin",
     "output_type": "stream",
     "text": [
      "Enter your choice (1-5):  3\n"
     ]
    },
    {
     "name": "stdout",
     "output_type": "stream",
     "text": [
      "\n",
      "All Products in Inventory:\n",
      "+------------+--------+------------+-------+\n",
      "| Product ID |  Name  |  Category  | Stock |\n",
      "+------------+--------+------------+-------+\n",
      "|    P001    | Laptop | Electronic |   4   |\n",
      "|    P002    | Chair  | Furniture  |  13   |\n",
      "|    P003    |  Pen   | Stationary |  20   |\n",
      "+------------+--------+------------+-------+\n",
      "\n",
      "Inventory Management System\n",
      "1. Add Product\n",
      "2. Update Stock\n",
      "3. Display All Products\n",
      "4. Display Products by Category\n",
      "5. Exit\n"
     ]
    },
    {
     "name": "stdin",
     "output_type": "stream",
     "text": [
      "Enter your choice (1-5):  4\n",
      "Enter category to filter:  Stationary\n"
     ]
    },
    {
     "name": "stdout",
     "output_type": "stream",
     "text": [
      "\n",
      "Products in Category: Stationary\n",
      "+------------+------+-------+\n",
      "| Product ID | Name | Stock |\n",
      "+------------+------+-------+\n",
      "|    P003    | Pen  |  20   |\n",
      "+------------+------+-------+\n",
      "\n",
      "Inventory Management System\n",
      "1. Add Product\n",
      "2. Update Stock\n",
      "3. Display All Products\n",
      "4. Display Products by Category\n",
      "5. Exit\n"
     ]
    },
    {
     "name": "stdin",
     "output_type": "stream",
     "text": [
      "Enter your choice (1-5):  5\n"
     ]
    },
    {
     "name": "stdout",
     "output_type": "stream",
     "text": [
      "Exiting the Inventory Management System. Goodbye!\n"
     ]
    }
   ],
   "source": [
    "def display_menu():\n",
    "    print(\"\\nInventory Management System\")\n",
    "    print(\"1. Add Product\")\n",
    "    print(\"2. Update Stock\")\n",
    "    print(\"3. Display All Products\")\n",
    "    print(\"4. Display Products by Category\")\n",
    "    print(\"5. Exit\")\n",
    "\n",
    "def main():\n",
    "    ims = InventoryManagementSystem()\n",
    "    \n",
    "    while True:\n",
    "        display_menu()\n",
    "        choice = input(\"Enter your choice (1-5): \")\n",
    "        \n",
    "        if choice == '1':\n",
    "            product_id = input(\"Enter product ID: \")\n",
    "            name = input(\"Enter product name: \")\n",
    "            category = input(\"Enter product category: \")\n",
    "            stock = int(input(\"Enter stock quantity: \"))\n",
    "            ims.add_product(product_id, name, category, stock)\n",
    "        \n",
    "        elif choice == '2':\n",
    "            product_id = input(\"Enter product ID: \")\n",
    "            quantity = int(input(\"Enter quantity to update (positive to add, negative to subtract): \"))\n",
    "            ims.update_stock(product_id, quantity)\n",
    "        \n",
    "        elif choice == '3':\n",
    "            ims.display_products()\n",
    "        \n",
    "        elif choice == '4':\n",
    "            category = input(\"Enter category to filter: \")\n",
    "            ims.display_by_category(category)\n",
    "        \n",
    "        elif choice == '5':\n",
    "            print(\"Exiting the Inventory Management System. Goodbye!\")\n",
    "            break\n",
    "        \n",
    "        else:\n",
    "            print(\"Invalid choice. Please try again.\")\n",
    "\n",
    "main()"
   ]
  },
  {
   "cell_type": "code",
   "execution_count": null,
   "id": "eda42a77-01c3-4fb5-88a5-575b5612294a",
   "metadata": {},
   "outputs": [],
   "source": []
  }
 ],
 "metadata": {
  "kernelspec": {
   "display_name": "Python 3 (ipykernel)",
   "language": "python",
   "name": "python3"
  },
  "language_info": {
   "codemirror_mode": {
    "name": "ipython",
    "version": 3
   },
   "file_extension": ".py",
   "mimetype": "text/x-python",
   "name": "python",
   "nbconvert_exporter": "python",
   "pygments_lexer": "ipython3",
   "version": "3.12.1"
  }
 },
 "nbformat": 4,
 "nbformat_minor": 5
}
