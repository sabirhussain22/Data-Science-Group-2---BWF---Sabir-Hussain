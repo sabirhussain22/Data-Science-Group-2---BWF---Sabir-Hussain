{
 "cells": [
  {
   "cell_type": "markdown",
   "id": "a7ed59b0-62d0-42a6-8cbf-412ad756f325",
   "metadata": {},
   "source": [
    "# Task 6: File Handling, Exception Handling"
   ]
  },
  {
   "cell_type": "markdown",
   "id": "524dc085-bfb5-4a0e-bc54-ec9d2c9a3839",
   "metadata": {},
   "source": [
    "### File Handling in Python\n",
    "File handling in Python involves reading from and writing to files. Python provides built-in functions to perform these operations, ensuring that data can be stored permanently and accessed when needed. Here are the primary file handling operations:\n",
    "\n",
    "- Opening a File: Using the open() function, you can open a file in different modes like read ('r'), write ('w'), append ('a'), etc.\n",
    "- Reading from a File: Functions like read(), readline(), and readlines() are used to read data from a file.\n",
    "- Writing to a File: Functions like write() and writelines() are used to write data to a file.\n",
    "- Closing a File: It's important to close a file using the close() method to free up system resources."
   ]
  },
  {
   "cell_type": "markdown",
   "id": "7e6705e4-82e1-4443-a571-bb7bfd5c0c9d",
   "metadata": {},
   "source": [
    "### Exception Handling in Python\n",
    "Exception handling ensures that your program can handle errors gracefully. Python uses try, except, else, and finally blocks to handle exceptions.\n",
    "\n",
    "- try: Block of code to be tested for errors.\n",
    "- except: Block of code to be executed if an error occurs.\n",
    "- else: Block of code to be executed if no errors occur.\n"
   ]
  },
  {
   "cell_type": "markdown",
   "id": "a6a884e6-e850-4b0b-af96-37db82f48b31",
   "metadata": {},
   "source": [
    "## Code Example for File and Exception Handling"
   ]
  },
  {
   "cell_type": "code",
   "execution_count": 1,
   "id": "7c7d4134-cc9d-4170-afa9-c30aeb0077bd",
   "metadata": {},
   "outputs": [
    {
     "name": "stdout",
     "output_type": "stream",
     "text": [
      "Hello, this is a test file.\n"
     ]
    }
   ],
   "source": [
    "def read_file(file_path):\n",
    "    try:\n",
    "        with open(file_path, 'r') as file:\n",
    "            data = file.read()\n",
    "            return data\n",
    "    except FileNotFoundError:\n",
    "        return \"File not found. Please check the file path.\"\n",
    "    except Exception as e:\n",
    "        return f\"An error occurred: {e}\"\n",
    "\n",
    "def write_file(file_path, content):\n",
    "    try:\n",
    "        with open(file_path, 'w') as file:\n",
    "            file.write(content)\n",
    "    except Exception as e:\n",
    "        return f\"An error occurred: {e}\"\n",
    "\n",
    "file_path = 'example.txt'\n",
    "write_result = write_file(file_path, \"Hello, this is a test file.\")\n",
    "if write_result:\n",
    "    print(write_result)\n",
    "\n",
    "read_result = read_file(file_path)\n",
    "print(read_result)"
   ]
  },
  {
   "cell_type": "markdown",
   "id": "1e02bbb0-bb9f-4972-8233-11f58af306a5",
   "metadata": {},
   "source": [
    "## Product Management System"
   ]
  },
  {
   "cell_type": "code",
   "execution_count": 2,
   "id": "524b8f50-b1ac-4c34-ae58-ceb2f3ad8d9c",
   "metadata": {},
   "outputs": [
    {
     "name": "stdout",
     "output_type": "stream",
     "text": [
      "\n",
      "Product Management System\n",
      "1. Add Product\n",
      "2. Search Product\n",
      "3. Delete Product\n",
      "4. List Products\n",
      "5. Exit\n"
     ]
    },
    {
     "name": "stdin",
     "output_type": "stream",
     "text": [
      "Enter your choice:  1\n",
      "Enter product ID:  2\n",
      "Enter product name:  laptop\n",
      "Enter product quantity:  1\n",
      "Enter product price:  1000\n"
     ]
    },
    {
     "name": "stdout",
     "output_type": "stream",
     "text": [
      "Product added successfully.\n",
      "\n",
      "Product Management System\n",
      "1. Add Product\n",
      "2. Search Product\n",
      "3. Delete Product\n",
      "4. List Products\n",
      "5. Exit\n"
     ]
    },
    {
     "name": "stdin",
     "output_type": "stream",
     "text": [
      "Enter your choice:  1\n",
      "Enter product ID:  1\n",
      "Enter product name:  mobile\n",
      "Enter product quantity:  2\n",
      "Enter product price:  7000\n"
     ]
    },
    {
     "name": "stdout",
     "output_type": "stream",
     "text": [
      "Product added successfully.\n",
      "\n",
      "Product Management System\n",
      "1. Add Product\n",
      "2. Search Product\n",
      "3. Delete Product\n",
      "4. List Products\n",
      "5. Exit\n"
     ]
    },
    {
     "name": "stdin",
     "output_type": "stream",
     "text": [
      "Enter your choice:  2\n",
      "Enter product ID to search:  2\n"
     ]
    },
    {
     "name": "stdout",
     "output_type": "stream",
     "text": [
      "Found product: ID: 2, Name: laptop, Quantity: 1, Price: 1000.0\n",
      "\n",
      "Product Management System\n",
      "1. Add Product\n",
      "2. Search Product\n",
      "3. Delete Product\n",
      "4. List Products\n",
      "5. Exit\n"
     ]
    },
    {
     "name": "stdin",
     "output_type": "stream",
     "text": [
      "Enter your choice:  3\n",
      "Enter product ID to delete:  1\n"
     ]
    },
    {
     "name": "stdout",
     "output_type": "stream",
     "text": [
      "Product deleted successfully if it existed.\n",
      "\n",
      "Product Management System\n",
      "1. Add Product\n",
      "2. Search Product\n",
      "3. Delete Product\n",
      "4. List Products\n",
      "5. Exit\n"
     ]
    },
    {
     "name": "stdin",
     "output_type": "stream",
     "text": [
      "Enter your choice:  4\n"
     ]
    },
    {
     "name": "stdout",
     "output_type": "stream",
     "text": [
      "ID: 2, Name: laptop, Quantity: 1, Price: 1000.0\n",
      "\n",
      "Product Management System\n",
      "1. Add Product\n",
      "2. Search Product\n",
      "3. Delete Product\n",
      "4. List Products\n",
      "5. Exit\n"
     ]
    },
    {
     "name": "stdin",
     "output_type": "stream",
     "text": [
      "Enter your choice:  5\n"
     ]
    }
   ],
   "source": [
    "import csv\n",
    "import os\n",
    "\n",
    "file_path = 'products.csv'\n",
    "\n",
    "def load_products():\n",
    "    products = []\n",
    "    if not os.path.exists(file_path):\n",
    "        return products\n",
    "    try:\n",
    "        with open(file_path, 'r', newline='') as file:\n",
    "            reader = csv.DictReader(file)\n",
    "            for row in reader:\n",
    "                row['product_qty'] = int(row['product_qty'])\n",
    "                row['product_price'] = float(row['product_price'])\n",
    "                products.append(row)\n",
    "    except Exception as e:\n",
    "        print(f\"An error occurred while loading products: {e}\")\n",
    "    return products\n",
    "\n",
    "def save_products(products):\n",
    "    try:\n",
    "        with open(file_path, 'w', newline='') as file:\n",
    "            fieldnames = ['product_id', 'product_name', 'product_qty', 'product_price']\n",
    "            writer = csv.DictWriter(file, fieldnames=fieldnames)\n",
    "            writer.writeheader()\n",
    "            for product in products:\n",
    "                writer.writerow(product)\n",
    "    except Exception as e:\n",
    "        print(f\"An error occurred while saving products: {e}\")\n",
    "\n",
    "def add_product():\n",
    "    product_id = input(\"Enter product ID: \")\n",
    "    product_name = input(\"Enter product name: \")\n",
    "    product_qty = int(input(\"Enter product quantity: \"))\n",
    "    product_price = float(input(\"Enter product price: \"))\n",
    "    \n",
    "    products = load_products()\n",
    "    if any(product['product_id'] == product_id for product in products):\n",
    "        print(\"Product ID already exists.\")\n",
    "        return\n",
    "    product = {\n",
    "        'product_id': product_id,\n",
    "        'product_name': product_name,\n",
    "        'product_qty': product_qty,\n",
    "        'product_price': product_price\n",
    "    }\n",
    "    products.append(product)\n",
    "    save_products(products)\n",
    "    print(\"Product added successfully.\")\n",
    "\n",
    "def search_product():\n",
    "    product_id = input(\"Enter product ID to search: \")\n",
    "    products = load_products()\n",
    "    for product in products:\n",
    "        if product['product_id'] == product_id:\n",
    "            print(f\"Found product: ID: {product['product_id']}, Name: {product['product_name']}, Quantity: {product['product_qty']}, Price: {product['product_price']}\")\n",
    "            return\n",
    "    print(\"Product not found.\")\n",
    "\n",
    "def delete_product():\n",
    "    product_id = input(\"Enter product ID to delete: \")\n",
    "    products = load_products()\n",
    "    products = [product for product in products if product['product_id'] != product_id]\n",
    "    save_products(products)\n",
    "    print(\"Product deleted successfully if it existed.\")\n",
    "\n",
    "def list_products():\n",
    "    products = load_products()\n",
    "    if not products:\n",
    "        print(\"No products available.\")\n",
    "    else:\n",
    "        for product in products:\n",
    "            print(f\"ID: {product['product_id']}, Name: {product['product_name']}, Quantity: {product['product_qty']}, Price: {product['product_price']}\")\n",
    "\n",
    "def main():\n",
    "    while True:\n",
    "        print(\"\\nProduct Management System\")\n",
    "        print(\"1. Add Product\")\n",
    "        print(\"2. Search Product\")\n",
    "        print(\"3. Delete Product\")\n",
    "        print(\"4. List Products\")\n",
    "        print(\"5. Exit\")\n",
    "        choice = input(\"Enter your choice: \")\n",
    "\n",
    "        if choice == '1':\n",
    "            add_product()\n",
    "        elif choice == '2':\n",
    "            search_product()\n",
    "        elif choice == '3':\n",
    "            delete_product()\n",
    "        elif choice == '4':\n",
    "            list_products()\n",
    "        elif choice == '5':\n",
    "            break\n",
    "        else:\n",
    "            print(\"Invalid choice. Please try again.\")\n",
    "\n",
    "main()\n"
   ]
  },
  {
   "cell_type": "code",
   "execution_count": null,
   "id": "e38c9cda-b5b3-482b-ab08-ffbf4878c1fc",
   "metadata": {},
   "outputs": [],
   "source": []
  }
 ],
 "metadata": {
  "kernelspec": {
   "display_name": "Python 3 (ipykernel)",
   "language": "python",
   "name": "python3"
  },
  "language_info": {
   "codemirror_mode": {
    "name": "ipython",
    "version": 3
   },
   "file_extension": ".py",
   "mimetype": "text/x-python",
   "name": "python",
   "nbconvert_exporter": "python",
   "pygments_lexer": "ipython3",
   "version": "3.12.1"
  }
 },
 "nbformat": 4,
 "nbformat_minor": 5
}
